{
 "cells": [
  {
   "cell_type": "code",
   "execution_count": 1,
   "id": "56be9705",
   "metadata": {},
   "outputs": [],
   "source": [
    "import re\n",
    "import string\n",
    "import numpy as np\n",
    "\n",
    "from nltk.corpus import stopwords\n",
    "from nltk.stem import PorterStemmer\n",
    "from nltk.tokenize import TweetTokenizer\n",
    "from sklearn.feature_extraction.text import TfidfVectorizer\n",
    "from itertools import islice\n",
    "\n"
   ]
  },
  {
   "cell_type": "code",
   "execution_count": 18,
   "id": "1bafbdcc",
   "metadata": {},
   "outputs": [
    {
     "name": "stderr",
     "output_type": "stream",
     "text": [
      "[nltk_data] Downloading package stopwords to\n",
      "[nltk_data]     C:\\Users\\moham\\AppData\\Roaming\\nltk_data...\n",
      "[nltk_data]   Package stopwords is already up-to-date!\n"
     ]
    },
    {
     "data": {
      "text/plain": [
       "True"
      ]
     },
     "execution_count": 18,
     "metadata": {},
     "output_type": "execute_result"
    }
   ],
   "source": [
    "nltk.download('stopwords')"
   ]
  },
  {
   "cell_type": "code",
   "execution_count": 26,
   "id": "84d568dd",
   "metadata": {},
   "outputs": [],
   "source": [
    "def preprocessing(article):\n",
    "    lines = article.split(\".\")   # splits the whole article into lines\n",
    "    stemmer = PorterStemmer()\n",
    "    stopwords_english = stopwords.words('english')\n",
    "    article_preprocessed = []    # list that contains the main sentences after being preprocessed \n",
    "    for line in lines:\n",
    "        line_preprocessed = []\n",
    "        words_in_line = line.split()\n",
    "        for word in words_in_line:\n",
    "            if (word not in stopwords_english and word not in string.punctuation and word != 'the' and word != 'The'):   # make sure word is not a stop word\n",
    "                                                                                     # and not a punctuation \n",
    "                word_stemmed = stemmer.stem(word)  \n",
    "                line_preprocessed.append(word_stemmed)\n",
    "        article_preprocessed.append(line_preprocessed)\n",
    "    return article_preprocessed"
   ]
  },
  {
   "cell_type": "code",
   "execution_count": 27,
   "id": "e46cfebe",
   "metadata": {},
   "outputs": [],
   "source": [
    "with open(\"article_2.txt\", \"r\", encoding=\"utf8\") as file:\n",
    "    contents = file.read()\n",
    "    article_preprocessed = preprocessing(contents)"
   ]
  },
  {
   "cell_type": "code",
   "execution_count": 28,
   "id": "c60a9372",
   "metadata": {},
   "outputs": [
    {
     "name": "stdout",
     "output_type": "stream",
     "text": [
      "'Alcohol' is taken in almost all cool and cold climates, and to a very much less extent in hot ones. Thus, it is taken by people who live in the Himalaya Mountains, but not nearly so much by those who live in the plains of India. Alcohol is not necessary in any way to anybody. The regular use of alcohol, even in small quantities, tends to cause mischief in many ways to various organs of the body. It affects the liver, it weakens the mental powers, and lessens the general energy of the body. In addition, damage to the central nervous system and peripheral nervous system can occur from chronic alcohol abuse.\n"
     ]
    }
   ],
   "source": [
    "print(contents)"
   ]
  },
  {
   "cell_type": "code",
   "execution_count": 29,
   "id": "3714a510",
   "metadata": {},
   "outputs": [],
   "source": [
    "def convert_list_to_string(content):\n",
    "    content_modified = []   # list of strings\n",
    "    for line in content:\n",
    "        line_as_string = \" \".join(line)\n",
    "        content_modified.append(line_as_string)\n",
    "    return content_modified"
   ]
  },
  {
   "cell_type": "code",
   "execution_count": 30,
   "id": "925e25cc",
   "metadata": {},
   "outputs": [],
   "source": [
    "def calculate_TF_IDF(content):\n",
    "    \n",
    "    vectorizer = TfidfVectorizer()   # Create a TfidfVectorizer object\n",
    "    vectorizer.fit(content)   # Fit the vectorizer to the documents\n",
    "    feature_names = vectorizer.get_feature_names()\n",
    "\n",
    "    print(\"Feature names:\")   # Print the feature names\n",
    "    print(feature_names)   \n",
    "\n",
    "    tfidf_matrix = vectorizer.transform(content)   # Transform the documents into a TF-IDF matrix\n",
    "    np.set_printoptions(threshold=np.inf)\n",
    "#     print(\"TF-IDF matrix:\")   # Print the TF-IDF matrix\n",
    "#     print(tfidf_matrix.toarray())\n",
    "    return tfidf_matrix.toarray()\n",
    "    "
   ]
  },
  {
   "cell_type": "code",
   "execution_count": 31,
   "id": "9c293a15",
   "metadata": {},
   "outputs": [
    {
     "name": "stdout",
     "output_type": "stream",
     "text": [
      "Feature names:\n",
      "['abus', 'addition', 'affect', 'alcohol', 'almost', 'anybodi', 'bodi', 'caus', 'central', 'chronic', 'climates', 'cold', 'cool', 'damag', 'energi', 'even', 'extent', 'gener', 'himalaya', 'hot', 'in', 'india', 'it', 'less', 'lessen', 'live', 'liver', 'mani', 'mental', 'mischief', 'mountains', 'much', 'nearli', 'necessari', 'nervou', 'occur', 'one', 'organ', 'peopl', 'peripher', 'plain', 'powers', 'quantities', 'regular', 'small', 'system', 'taken', 'tend', 'thus', 'use', 'variou', 'way', 'weaken']\n"
     ]
    },
    {
     "data": {
      "text/plain": [
       "array([[0.        , 0.        , 0.        , 0.19720761, 0.32013214,\n",
       "        0.        , 0.        , 0.        , 0.        , 0.        ,\n",
       "        0.32013214, 0.32013214, 0.32013214, 0.        , 0.        ,\n",
       "        0.        , 0.32013214, 0.        , 0.        , 0.32013214,\n",
       "        0.        , 0.        , 0.        , 0.32013214, 0.        ,\n",
       "        0.        , 0.        , 0.        , 0.        , 0.        ,\n",
       "        0.        , 0.26573717, 0.        , 0.        , 0.        ,\n",
       "        0.        , 0.32013214, 0.        , 0.        , 0.        ,\n",
       "        0.        , 0.        , 0.        , 0.        , 0.        ,\n",
       "        0.        , 0.26573717, 0.        , 0.        , 0.        ,\n",
       "        0.        , 0.        , 0.        ],\n",
       "       [0.        , 0.        , 0.        , 0.        , 0.        ,\n",
       "        0.        , 0.        , 0.        , 0.        , 0.        ,\n",
       "        0.        , 0.        , 0.        , 0.        , 0.        ,\n",
       "        0.        , 0.        , 0.        , 0.28423219, 0.        ,\n",
       "        0.        , 0.28423219, 0.        , 0.        , 0.        ,\n",
       "        0.56846439, 0.        , 0.        , 0.        , 0.        ,\n",
       "        0.28423219, 0.23593713, 0.28423219, 0.        , 0.        ,\n",
       "        0.        , 0.        , 0.        , 0.28423219, 0.        ,\n",
       "        0.28423219, 0.        , 0.        , 0.        , 0.        ,\n",
       "        0.        , 0.23593713, 0.        , 0.28423219, 0.        ,\n",
       "        0.        , 0.        , 0.        ],\n",
       "       [0.        , 0.        , 0.        , 0.35166548, 0.        ,\n",
       "        0.57086754, 0.        , 0.        , 0.        , 0.        ,\n",
       "        0.        , 0.        , 0.        , 0.        , 0.        ,\n",
       "        0.        , 0.        , 0.        , 0.        , 0.        ,\n",
       "        0.        , 0.        , 0.        , 0.        , 0.        ,\n",
       "        0.        , 0.        , 0.        , 0.        , 0.        ,\n",
       "        0.        , 0.        , 0.        , 0.57086754, 0.        ,\n",
       "        0.        , 0.        , 0.        , 0.        , 0.        ,\n",
       "        0.        , 0.        , 0.        , 0.        , 0.        ,\n",
       "        0.        , 0.        , 0.        , 0.        , 0.        ,\n",
       "        0.        , 0.47386908, 0.        ],\n",
       "       [0.        , 0.        , 0.        , 0.17246878, 0.        ,\n",
       "        0.        , 0.23240161, 0.27997297, 0.        , 0.        ,\n",
       "        0.        , 0.        , 0.        , 0.        , 0.        ,\n",
       "        0.27997297, 0.        , 0.        , 0.        , 0.        ,\n",
       "        0.        , 0.        , 0.        , 0.        , 0.        ,\n",
       "        0.        , 0.        , 0.27997297, 0.        , 0.27997297,\n",
       "        0.        , 0.        , 0.        , 0.        , 0.        ,\n",
       "        0.        , 0.        , 0.27997297, 0.        , 0.        ,\n",
       "        0.        , 0.        , 0.27997297, 0.27997297, 0.27997297,\n",
       "        0.        , 0.        , 0.27997297, 0.        , 0.27997297,\n",
       "        0.27997297, 0.23240161, 0.        ],\n",
       "       [0.        , 0.        , 0.32126215, 0.        , 0.        ,\n",
       "        0.        , 0.26667518, 0.        , 0.        , 0.        ,\n",
       "        0.        , 0.        , 0.        , 0.        , 0.32126215,\n",
       "        0.        , 0.        , 0.32126215, 0.        , 0.        ,\n",
       "        0.        , 0.        , 0.32126215, 0.        , 0.32126215,\n",
       "        0.        , 0.32126215, 0.        , 0.32126215, 0.        ,\n",
       "        0.        , 0.        , 0.        , 0.        , 0.        ,\n",
       "        0.        , 0.        , 0.        , 0.        , 0.        ,\n",
       "        0.        , 0.32126215, 0.        , 0.        , 0.        ,\n",
       "        0.        , 0.        , 0.        , 0.        , 0.        ,\n",
       "        0.        , 0.        , 0.32126215],\n",
       "       [0.24708703, 0.24708703, 0.        , 0.1522104 , 0.        ,\n",
       "        0.        , 0.        , 0.        , 0.24708703, 0.24708703,\n",
       "        0.        , 0.        , 0.        , 0.24708703, 0.        ,\n",
       "        0.        , 0.        , 0.        , 0.        , 0.        ,\n",
       "        0.24708703, 0.        , 0.        , 0.        , 0.        ,\n",
       "        0.        , 0.        , 0.        , 0.        , 0.        ,\n",
       "        0.        , 0.        , 0.        , 0.        , 0.49417406,\n",
       "        0.24708703, 0.        , 0.        , 0.        , 0.24708703,\n",
       "        0.        , 0.        , 0.        , 0.        , 0.        ,\n",
       "        0.49417406, 0.        , 0.        , 0.        , 0.        ,\n",
       "        0.        , 0.        , 0.        ],\n",
       "       [0.        , 0.        , 0.        , 0.        , 0.        ,\n",
       "        0.        , 0.        , 0.        , 0.        , 0.        ,\n",
       "        0.        , 0.        , 0.        , 0.        , 0.        ,\n",
       "        0.        , 0.        , 0.        , 0.        , 0.        ,\n",
       "        0.        , 0.        , 0.        , 0.        , 0.        ,\n",
       "        0.        , 0.        , 0.        , 0.        , 0.        ,\n",
       "        0.        , 0.        , 0.        , 0.        , 0.        ,\n",
       "        0.        , 0.        , 0.        , 0.        , 0.        ,\n",
       "        0.        , 0.        , 0.        , 0.        , 0.        ,\n",
       "        0.        , 0.        , 0.        , 0.        , 0.        ,\n",
       "        0.        , 0.        , 0.        ]])"
      ]
     },
     "execution_count": 31,
     "metadata": {},
     "output_type": "execute_result"
    }
   ],
   "source": [
    "article_modified = convert_list_to_string(article_preprocessed)\n",
    "calculate_TF_IDF(article_modified)"
   ]
  },
  {
   "cell_type": "code",
   "execution_count": 32,
   "id": "28a6ceff",
   "metadata": {},
   "outputs": [],
   "source": [
    "def calculate_each_sentence_score(tf_idf_matrix):\n",
    "    score_dict = {}   # dictionary that stores keys as summation of tf_idf scores for all word in current line \n",
    "                      # and values of dictionary as index of the line in the article\n",
    "    for index, line in enumerate(tf_idf_matrix):\n",
    "#         print(line)\n",
    "#         print('at')\n",
    "#         print(index)\n",
    "        score = np.sum(line)\n",
    "        score_dict[score] = index\n",
    "        \n",
    "    sorted_keys = sorted(score_dict.items(), reverse=True)   # sort the dictionary by keys in the descending order\n",
    "    score_dict_reversed = dict(sorted_keys)\n",
    "\n",
    "#     print(score_dict_reversed)\n",
    "    return score_dict_reversed"
   ]
  },
  {
   "cell_type": "code",
   "execution_count": 33,
   "id": "3bb039f8",
   "metadata": {},
   "outputs": [],
   "source": [
    "def summary_generation(article, score_dict_reversed, number_of_sentences):\n",
    "    lines = article.split(\".\")   # list contains strings, where these strings are original lines\n",
    "    \n",
    "    score_dict = dict(islice(score_dict_reversed.items(), number_of_sentences))   # select only certain number of lines\n",
    "                                                                                  # to be displayed \n",
    "        \n",
    "    sort_data = sorted(score_dict.items(), key=lambda x: x[1])   # sort the dictionary by value (index of lines) in\n",
    "                                                                 # the ascending order to display lines ordered as the \n",
    "                                                                 # original article \n",
    "    score_dict_ascending = dict(sort_data)\n",
    "    print(score_dict_ascending)\n",
    "    print(score_dict_reversed)\n",
    "    output_list = []\n",
    "    for key in score_dict_ascending:\n",
    "        output_list.append(lines[score_dict_ascending[key]])\n",
    "            \n",
    "    output_string = \".\".join(output_list)\n",
    "    output_string += \".\"\n",
    "    return output_string"
   ]
  },
  {
   "cell_type": "code",
   "execution_count": 40,
   "id": "1319f96d",
   "metadata": {},
   "outputs": [
    {
     "name": "stdout",
     "output_type": "stream",
     "text": [
      "Feature names:\n",
      "['abus', 'addition', 'affect', 'alcohol', 'almost', 'anybodi', 'bodi', 'caus', 'central', 'chronic', 'climates', 'cold', 'cool', 'damag', 'energi', 'even', 'extent', 'gener', 'himalaya', 'hot', 'in', 'india', 'it', 'less', 'lessen', 'live', 'liver', 'mani', 'mental', 'mischief', 'mountains', 'much', 'nearli', 'necessari', 'nervou', 'occur', 'one', 'organ', 'peopl', 'peripher', 'plain', 'powers', 'quantities', 'regular', 'small', 'system', 'taken', 'tend', 'thus', 'use', 'variou', 'way', 'weaken']\n",
      "{3.289739028647383: 0, 3.7169746704965743: 3, 3.1580345719945706: 4, 3.117254743580706: 5}\n",
      "{3.7169746704965743: 3, 3.289739028647383: 0, 3.1580345719945706: 4, 3.117254743580706: 5, 3.0299640067036613: 1, 1.967269629670797: 2, 0.0: 6}\n",
      "'Alcohol' is taken in almost all cool and cold climates, and to a very much less extent in hot ones. The regular use of alcohol, even in small quantities, tends to cause mischief in many ways to various organs of the body. It affects the liver, it weakens the mental powers, and lessens the general energy of the body. In addition, damage to the central nervous system and peripheral nervous system can occur from chronic alcohol abuse.\n"
     ]
    }
   ],
   "source": [
    "article_modified = convert_list_to_string(article_preprocessed)\n",
    "tf_idf_matrix = calculate_TF_IDF(article_modified)\n",
    "dict_scores = calculate_each_sentence_score(tf_idf_matrix)\n",
    "output = summary_generation(contents, dict_scores, 4)\n",
    "print(output)"
   ]
  },
  {
   "cell_type": "code",
   "execution_count": null,
   "id": "f91227cf",
   "metadata": {},
   "outputs": [],
   "source": []
  },
  {
   "cell_type": "code",
   "execution_count": null,
   "id": "6271fdad",
   "metadata": {},
   "outputs": [],
   "source": []
  }
 ],
 "metadata": {
  "kernelspec": {
   "display_name": "Python 3",
   "language": "python",
   "name": "python3"
  },
  "language_info": {
   "codemirror_mode": {
    "name": "ipython",
    "version": 3
   },
   "file_extension": ".py",
   "mimetype": "text/x-python",
   "name": "python",
   "nbconvert_exporter": "python",
   "pygments_lexer": "ipython3",
   "version": "3.8.8"
  }
 },
 "nbformat": 4,
 "nbformat_minor": 5
}
