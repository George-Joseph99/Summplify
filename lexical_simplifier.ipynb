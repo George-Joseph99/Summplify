{
 "cells": [
  {
   "cell_type": "code",
   "execution_count": 21,
   "id": "c11abb05",
   "metadata": {},
   "outputs": [],
   "source": [
    "import csv\n",
    "import io\n",
    "\n",
    "from nltk.tokenize import sent_tokenize, word_tokenize"
   ]
  },
  {
   "cell_type": "code",
   "execution_count": 22,
   "id": "3e2c6d50",
   "metadata": {},
   "outputs": [],
   "source": [
    "lexicon = {}\n",
    "with open('lexicon.tsv', newline='') as csvfile:\n",
    "    reader = csv.reader(csvfile, delimiter='\\t')\n",
    "    for row in reader:\n",
    "        lexicon[row[0]] = row[1]"
   ]
  },
  {
   "cell_type": "code",
   "execution_count": 28,
   "id": "4c090265",
   "metadata": {},
   "outputs": [],
   "source": [
    "def complex_words_identification(article):\n",
    "    complex_word_and_sentence = {}   # key is word and value is the sentence\n",
    "    sentences = sent_tokenize(article)\n",
    "    for sentence in sentences:\n",
    "        words = word_tokenize(sentence)\n",
    "        for word in words:\n",
    "            if word in lexicon:\n",
    "                if float(lexicon[word]) > 3:\n",
    "                    complex_word_and_sentence[word] = sentence\n",
    "    return complex_word_and_sentence"
   ]
  },
  {
   "cell_type": "code",
   "execution_count": 29,
   "id": "f71b1c3f",
   "metadata": {},
   "outputs": [
    {
     "name": "stdout",
     "output_type": "stream",
     "text": [
      "{'Lionel': 'Ronaldo picked up the award for the second year in a row to equal the record of Barcelona star Lionel Messi, and he said he does not believe any player is better than him.', 'Legends': 'Legends like Floyd Mayweather [Jr.] and LeBron James don’t get to their perfect level by chance.'}\n"
     ]
    }
   ],
   "source": [
    "article_file = io.open(\"cr7.txt\", \"r\", encoding='utf-8-sig')\n",
    "article = article_file.read()\n",
    "article_file.close\n",
    "complex_words = complex_words_identification(article)\n",
    "print(complex_words)"
   ]
  },
  {
   "cell_type": "code",
   "execution_count": null,
   "id": "36324d0d",
   "metadata": {},
   "outputs": [],
   "source": []
  }
 ],
 "metadata": {
  "kernelspec": {
   "display_name": "Python 3 (ipykernel)",
   "language": "python",
   "name": "python3"
  },
  "language_info": {
   "codemirror_mode": {
    "name": "ipython",
    "version": 3
   },
   "file_extension": ".py",
   "mimetype": "text/x-python",
   "name": "python",
   "nbconvert_exporter": "python",
   "pygments_lexer": "ipython3",
   "version": "3.9.13"
  }
 },
 "nbformat": 4,
 "nbformat_minor": 5
}
