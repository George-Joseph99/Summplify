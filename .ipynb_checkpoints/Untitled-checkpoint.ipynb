{
 "cells": [
  {
   "cell_type": "code",
   "execution_count": 14,
   "id": "56be9705",
   "metadata": {},
   "outputs": [
    {
     "name": "stderr",
     "output_type": "stream",
     "text": [
      "[nltk_data] Downloading package stopwords to\n",
      "[nltk_data]     C:\\Users\\moham\\AppData\\Roaming\\nltk_data...\n",
      "[nltk_data]   Unzipping corpora\\stopwords.zip.\n"
     ]
    },
    {
     "data": {
      "text/plain": [
       "True"
      ]
     },
     "execution_count": 14,
     "metadata": {},
     "output_type": "execute_result"
    }
   ],
   "source": [
    "import re\n",
    "import string\n",
    "import numpy as np\n",
    "\n",
    "from nltk.corpus import stopwords\n",
    "from nltk.stem import PorterStemmer\n",
    "from nltk.tokenize import TweetTokenizer\n"
   ]
  },
  {
   "cell_type": "code",
   "execution_count": 18,
   "id": "1bafbdcc",
   "metadata": {},
   "outputs": [
    {
     "name": "stderr",
     "output_type": "stream",
     "text": [
      "[nltk_data] Downloading package stopwords to\n",
      "[nltk_data]     C:\\Users\\moham\\AppData\\Roaming\\nltk_data...\n",
      "[nltk_data]   Package stopwords is already up-to-date!\n"
     ]
    },
    {
     "data": {
      "text/plain": [
       "True"
      ]
     },
     "execution_count": 18,
     "metadata": {},
     "output_type": "execute_result"
    }
   ],
   "source": [
    "nltk.download('stopwords')"
   ]
  },
  {
   "cell_type": "code",
   "execution_count": 15,
   "id": "84d568dd",
   "metadata": {},
   "outputs": [],
   "source": [
    "def preprocessing(article):\n",
    "    lines = article.split(\".\")   # splits the whole article into lines\n",
    "    stemmer = PorterStemmer()\n",
    "    stopwords_english = stopwords.words('english')\n",
    "    article_preprocessed = []    # list that contains the main sentences after being preprocessed \n",
    "    for line in lines:\n",
    "        line_preprocessed = []\n",
    "        words_in_line = line.split()\n",
    "        for word in words_in_line:\n",
    "            if (word not in stopwords_english and word not in string.punctuation):   # make sure word is not a stop word\n",
    "                                                                                     # and not a punctuation \n",
    "                word_stemmed = stemmer.stem(word)  \n",
    "                line_preprocessed.append(word_stemmed)\n",
    "        article_preprocessed.append(line_preprocessed)\n",
    "    return article_preprocessed"
   ]
  },
  {
   "cell_type": "code",
   "execution_count": 16,
   "id": "e46cfebe",
   "metadata": {},
   "outputs": [],
   "source": [
    "with open(\"article_1.txt\", \"r\", encoding=\"utf8\") as file:\n",
    "    contents = file.read()\n",
    "    article_preprocessed = preprocessing(contents)"
   ]
  },
  {
   "cell_type": "code",
   "execution_count": 17,
   "id": "c60a9372",
   "metadata": {},
   "outputs": [
    {
     "name": "stdout",
     "output_type": "stream",
     "text": [
      "[['the', '“a”', 'uaw', 'long', 'carri', 'elabor', 'set', 'meanings,', 'econom', 'social'], ['root', 'vehicl', 'factori', 'upper', 'midwest,', 'unit', 'automobil', 'worker', 'organ', 'hundr', 'thousand', 'blue-collar', 'worker', 'america’', 'import', 'industri', 'onset', 'second', 'world', 'war'], ['that', 'war', 'gener', 'aircraft', 'industri', 'jobs,', 'mani', 'held', 'femal', 'rosi', 'rivet', 'airplan', 'frame'], ['by', 'end', 'war,', 'mani', 'worker', 'join', 'uaw', 'alongsid', 'worker', 'farm', 'equip', 'industry,', 'give', 'union', 'new', 'full', 'name:', 'unit', 'automobile,', 'aircraft,', 'agricultur', 'implement', 'worker'], ['(aircraft', 'would', 'later', 'chang', 'aerospac', 'cold', 'war', 'missil', 'race'], ['now,', 'unofficially,', '“a”', 'also', 'stand', 'academ', 'workers,', '48,000', 'strike', 'univers', 'california'], ['though', 'formal', 'chang', 'uaw', 'name', 'sinc', '1962,', 'doubt', 'academi', 'becom', 'dynam', 'success', 'venu', 'union', 'recent', 'year'], ['for', 'decades,', 'organ', 'effort', 'seem', 'someth', 'curios'], ['univers', 'administrators,', 'especi', 'run', 'ivi', 'leagu', 'elit', 'schools,', 'deni', 'employ', 'graduat', 'student', 'workers,', 'nation', 'labor', 'relat', 'board', 'often', 'agreed,', 'especi', 'member', 'appoint', 'republican', 'administr'], ['and', 'even', 'teach', 'assist', 'student', 'worker', 'form', 'union', 'period', 'go', 'strike,', 'fight', 'rare', 'seem', 'larg', 'econom', 'consequ'], ['the', 'current', 'strike', 'univers', 'california', 'differ'], ['it', 'seem', 'rather', 'like', 'one', 'uaw’', 'epic', 'showdown', 'gener', 'motor', 'ford', 'mid-twentieth', 'century,', 'union', '“the', 'vanguard', 'america”—a', 'phrase', 'coin', 'walter', 'reuther,', 'uaw’', 'legendari', 'presid'], ['that', 'era', 'uaw,', 'power', 'progress', 'working-class', 'institut', 'nation,', 'forg', 'wage', 'benefit', 'pattern', 'soon', 'emul', 'hundr', 'firm', 'employ', 'million', 'worker', 'throughout', 'country’', 'econom', 'core'], ['histori', 'may', 'repeat', 'uaw', 'conduct', 'largest', 'strike', 'histori', 'american', 'higher', 'educ'], ['becaus', 'size', 'stature,', 'anyth', 'happen', 'univers', 'california', 'impact', 'extend', 'beyond', 'campu', 'quad'], ['the', 'uc', 'budget', '$44', 'billion', 'year,', 'enrol', '295,000', 'student', 'ten', 'campuses,', '227,000', 'faculti', 'staff'], ['graduat', 'student', 'non–tenur', 'track', 'instructor', 'teach', 'half', 'classes,', 'thousand', 'postdoctor', 'employe', 'play', 'vital', 'role', 'make', 'uc', 'research', 'powerhous'], ['what', 'happen', 'uc', 'set', 'standard', '“industry”—high', 'education—that', 'today', 'employ', 'peopl', 'feder', 'govern'], ['three', 'major', 'union', 'strike,', 'repres', 'postdoctor', 'scholars;', 'teach', 'assistants,', 'tutors,', 'readers;', 'larg', 'group', 'recent', 'organ', 'graduat', 'research'], ['technic', '“unfair', 'labor', 'practices”', 'strike,', 'mean', 'want', 'uc', 'bargain', 'fair', 'forthright', 'fashion'], ['at', 'top', 'joint', 'demand', 'money—a', 'lot'], ['graduat', 'teach', 'assist', 'earn', '$24,000', 'year,', 'want', '$54,000,', 'twice', 'much', 'make'], ['postdoc', 'want', 'minimum', '$70,000'], ['and', 'striker', 'demand', 'healthcar', 'coverag', 'depend', 'child-car', 'reimburs'], ['all', 'this,', 'say', 'strikers,', 'essenti', 'afford', 'california', 'hous', 'cost', 'eat', 'half', 'income,', 'well', 'inflationari', 'riptid', 'erod', 'pay', 'recent', 'year'], ['some', 'historian', 'industri', 'relat', 'expert', 'argu', 'uaw', 'big', 'industri', 'union', 'trade', 'higher', 'wage', 'manag', 'control', 'work', 'condit', 'twentieth', 'centuri'], ['i', 'never', 'thought', 'trade-off', 'one', 'worker', 'accepted:', 'want', 'power', 'job', 'rich', 'pay', 'packet'], ['in', 'univers', 'today,', 'suppos', 'trade-off', 'revers'], ['most', 'academ', 'worker', 'enjoy', 'good', 'deal', 'autonomi', 'job', 'assembl', 'line', 'worker,', 'get', 'dollop', 'social', 'prestig', 'bargain'], ['but', 'return,', 'near', 'poverti', 'wage', 'norm,', 'expect', 'scholarli', 'accomplish', 'gener', 'tenured,', 'well-paid', 'univers', 'post', 'hard-work', 'graduat', 'student'], ['that', 'bargain', 'broken', 'decades,', 'along', 'expect', 'mani', 'graduat', 'student', 'academ', 'worker', 'could', 'reli', 'support', 'parent', 'spous'], ['the', 'tension', 'role', 'grad', 'worker', 'student', 'lock', 'individu', 'low-wag', 'regim', 'part-tim', 'employees,', 'twenti', 'hour', 'per', 'week', 'norm'], ['but', 'part-tim', 'work', 'statu', 'fiction,', 'especi', 'lab', 'learn', 'work', 'deepli', 'intertwin'], ['compound', 'effort', 'uc', 'institut', 'recruit', 'diverse,', 'multiethn', 'student', 'bodi'], ['that', 'project', 'modestli', 'successful,', 'ensur', 'larger', 'proport', 'student', 'come', 'working-class', 'background'], ['for', 'years,', 'union', 'graduat', 'students,', 'uc', 'elsewhere,', 'neither', 'clout', 'milit', 'put', 'forward', 'kind', 'transform', 'wage', 'demand', 'stand', 'core', 'strike'], ['they', 'bargain', 'healthcare,', 'workload,', 'grievanc', 'handling,', 'right', 'respect', 'picket', 'line', 'anoth', 'union—al', 'import', 'issues,', 'noth', 'compar', 'bold', 'offer', 'today'], ['two', 'thing', 'happen', 'make', 'strike', 'possibl'], ['first,', 'uaw', 'organ', 'thousand', 'new', 'academ', 'worker', 'uc:', '6,000', 'postdoctor', 'scholar', 'year', '2010,', '17,000', 'graduat', 'student', 'research', '2021'], ['combin', 'newli', 'organ', 'teach', 'assist', 'california', 'state', 'univers', 'univers', 'washington,', 'west', 'coast', 'uaw', 'larg', 'compris', 'worker', 'higher', 'education,', 'enough', 'ensur', 'former', 'grad', 'student,', 'mike', 'miller,', 'help', 'organ', 'teach', 'assist', '1990', 'after,', 'soon', 'join', 'uaw', 'execut', 'board', 'director', 'region', '6,', 'cover', 'pacif', 'state'], ['the', 'second', 'spur', 'contemporari', 'mobil', 'pandem', 'era’', 'rapid', 'rise', 'rent', 'inflation,', 'particularli', 'press', 'issu', 'coastal', 'california,', 'mani', 'uc', 'campus', 'locat'], ['in', '2019', '2020,', 'spirit', 'wildcat', 'strike', 'santa', 'cruz', 'campus', 'made', 'cost', 'live', 'allow', 'touchston', 'demand', 'milit', 'graduat', 'student'], ['they', 'want', 'big', 'wage', 'increas', 'pay', 'exorbit', 'hous', 'cost', 'burden', 'mani', 'student'], ['then', '2021,', 'untenur', 'uc', 'lecturers,', 'repres', 'american', 'feder', 'teachers,', 'averag', 'pay', 'increas', '30', 'percent', 'life', 'five-year', 'contract'], ['take', 'page', 'union', 'handbook', 'reuther,', 'often', 'defus', 'intern', 'opposit', 'adopt', 'program', 'dissidents,', 'miller', 'uaw', 'leader', 'success', 'channel', 'social', 'energi', 'gener', 'wildcat', 'movement,', 'well', 'chronic', 'frustrat', 'caus', 'california', 'hous', 'crisis,', 'current', 'strike'], ['thu', 'far', 'rank', 'unified,', 'outpour', 'faculty,', 'undergrad,', 'outsid', 'support'], ['as', 'lo', 'angel', 'time', 'editorialized,', '“what', 'say', 'univers', 'system', 'tout', 'one', 'golden', 'state’', 'best', 'attribut', 'intellectu', 'workforc', 'can’t', 'afford', 'live', 'state?”', 'the', 'uc', 'striker', 'part', 'whole', 'strata', 'college-educ', 'workers,', 'includ', 'starbuck', 'baristas,', 'museum', 'curators,', 'journalists,', 'retail', 'worker', 'rei', 'apple,', 'revolt', 'wage', 'standard', 'dead-end', 'work', 'regim', 'promis', 'keep', 'near-poverti', 'decad'], ['in', 'academia,', 'impoverish', 'apprenticeship', 'consid', 'brief', 'prelud', 'secur', 'prosper', 'career'], ['but', 'promis', 'utterli', 'discount', 'univers', 'itself,', 'construct', 'enterpris', 'model', 'requir', 'huge', 'class', 'precari', 'adjunct', 'toil', 'alongsid', 'shrink', 'number', 'tenur', 'professor', 'receiv', 'high', 'prestig', 'pay'], ['it', 'almost', 'iron', 'uc', 'strikers,', 'twenty-first-centuri', 'workforc', 'varieg', 'racial,', 'cultural,', 'political,', 'gender', 'character,', 'put', 'center', 'struggl', 'wage', 'demand', 'that,', 'except', 'size,', 'would', 'entir', 'unexcept', '1955'], ['in', 'response,', 'uc', 'administr', 'offer', 'pay', 'rais', 'rang', '4', '7', 'percent', 'first', 'year', 'contract,', 'smaller', 'subsequ', 'increas'], ['one', 'could', 'imagin', 'gener', 'motor', 'execut', 'make', 'sort', 'respons'], ['but', 'familiar', 'contest', 'detract', 'what’', 'stake'], ['in', 'economi', 'universities,', 'hospitals,', 'technolog', 'companies,', 'employ', 'well-educ', 'labor', 'systemat', 'sought', 'creat', 'precariat', 'work,', 'radic', 'enhanc', 'remuner', 'offer', 'salutari', 'twofold', 'impact'], ['first,', 'make', 'life', 'far', 'viabl', 'whose', 'real', 'standard', 'live', 'erod', 'gener'], ['as', 'trillion', 'quickli', 'appropri', 'spent', 'pandem', 'shown,', 'substitut', 'get', 'money', 'pocket', 'peopl', 'need'], ['but', 'equal', 'important,', 'truli', 'substanti', 'wage', 'increas', 'drive', 'stake', 'heart', 'busi', 'model', 'uc', 'mani', 'employ', 'constructed,', 'anim', 'democrat', 'workplac', 'creat', 'new', 'basi', 'working-class', 'power', 'american', 'societi'], []]\n"
     ]
    }
   ],
   "source": [
    "print(article_preprocessed)"
   ]
  },
  {
   "cell_type": "code",
   "execution_count": null,
   "id": "3714a510",
   "metadata": {},
   "outputs": [],
   "source": []
  }
 ],
 "metadata": {
  "kernelspec": {
   "display_name": "Python 3",
   "language": "python",
   "name": "python3"
  },
  "language_info": {
   "codemirror_mode": {
    "name": "ipython",
    "version": 3
   },
   "file_extension": ".py",
   "mimetype": "text/x-python",
   "name": "python",
   "nbconvert_exporter": "python",
   "pygments_lexer": "ipython3",
   "version": "3.8.8"
  }
 },
 "nbformat": 4,
 "nbformat_minor": 5
}
